{
  "nbformat": 4,
  "nbformat_minor": 0,
  "metadata": {
    "colab": {
      "name": "Untitled1.ipynb",
      "provenance": [],
      "collapsed_sections": [],
      "toc_visible": true
    },
    "kernelspec": {
      "name": "python3",
      "display_name": "Python 3"
    },
    "language_info": {
      "name": "python"
    }
  },
  "cells": [
    {
      "cell_type": "code",
      "metadata": {
        "id": "WculPE_jP2eP"
      },
      "source": [
        "import matplotlib.pyplot as plt\n",
        "import numpy as np\n",
        "import pandas as pd"
      ],
      "execution_count": 2,
      "outputs": []
    },
    {
      "cell_type": "markdown",
      "metadata": {
        "id": "1405UzVSP9Ug"
      },
      "source": [
        "Загружаем датасет"
      ]
    },
    {
      "cell_type": "code",
      "metadata": {
        "colab": {
          "base_uri": "https://localhost:8080/",
          "height": 202
        },
        "id": "jPmMkJWdP_q9",
        "outputId": "c442fd03-07f3-43fd-cb1b-b95c81eb9613"
      },
      "source": [
        "data = pd.read_csv(\"healthcare-dataset-stroke-data.csv\")\n",
        "data.head()"
      ],
      "execution_count": 3,
      "outputs": [
        {
          "output_type": "execute_result",
          "data": {
            "text/html": [
              "<div>\n",
              "<style scoped>\n",
              "    .dataframe tbody tr th:only-of-type {\n",
              "        vertical-align: middle;\n",
              "    }\n",
              "\n",
              "    .dataframe tbody tr th {\n",
              "        vertical-align: top;\n",
              "    }\n",
              "\n",
              "    .dataframe thead th {\n",
              "        text-align: right;\n",
              "    }\n",
              "</style>\n",
              "<table border=\"1\" class=\"dataframe\">\n",
              "  <thead>\n",
              "    <tr style=\"text-align: right;\">\n",
              "      <th></th>\n",
              "      <th>id</th>\n",
              "      <th>gender</th>\n",
              "      <th>age</th>\n",
              "      <th>hypertension</th>\n",
              "      <th>heart_disease</th>\n",
              "      <th>ever_married</th>\n",
              "      <th>work_type</th>\n",
              "      <th>Residence_type</th>\n",
              "      <th>avg_glucose_level</th>\n",
              "      <th>bmi</th>\n",
              "      <th>smoking_status</th>\n",
              "      <th>stroke</th>\n",
              "    </tr>\n",
              "  </thead>\n",
              "  <tbody>\n",
              "    <tr>\n",
              "      <th>0</th>\n",
              "      <td>9046</td>\n",
              "      <td>Male</td>\n",
              "      <td>67.0</td>\n",
              "      <td>0</td>\n",
              "      <td>1</td>\n",
              "      <td>Yes</td>\n",
              "      <td>Private</td>\n",
              "      <td>Urban</td>\n",
              "      <td>228.69</td>\n",
              "      <td>36.6</td>\n",
              "      <td>formerly smoked</td>\n",
              "      <td>1</td>\n",
              "    </tr>\n",
              "    <tr>\n",
              "      <th>1</th>\n",
              "      <td>51676</td>\n",
              "      <td>Female</td>\n",
              "      <td>61.0</td>\n",
              "      <td>0</td>\n",
              "      <td>0</td>\n",
              "      <td>Yes</td>\n",
              "      <td>Self-employed</td>\n",
              "      <td>Rural</td>\n",
              "      <td>202.21</td>\n",
              "      <td>NaN</td>\n",
              "      <td>never smoked</td>\n",
              "      <td>1</td>\n",
              "    </tr>\n",
              "    <tr>\n",
              "      <th>2</th>\n",
              "      <td>31112</td>\n",
              "      <td>Male</td>\n",
              "      <td>80.0</td>\n",
              "      <td>0</td>\n",
              "      <td>1</td>\n",
              "      <td>Yes</td>\n",
              "      <td>Private</td>\n",
              "      <td>Rural</td>\n",
              "      <td>105.92</td>\n",
              "      <td>32.5</td>\n",
              "      <td>never smoked</td>\n",
              "      <td>1</td>\n",
              "    </tr>\n",
              "    <tr>\n",
              "      <th>3</th>\n",
              "      <td>60182</td>\n",
              "      <td>Female</td>\n",
              "      <td>49.0</td>\n",
              "      <td>0</td>\n",
              "      <td>0</td>\n",
              "      <td>Yes</td>\n",
              "      <td>Private</td>\n",
              "      <td>Urban</td>\n",
              "      <td>171.23</td>\n",
              "      <td>34.4</td>\n",
              "      <td>smokes</td>\n",
              "      <td>1</td>\n",
              "    </tr>\n",
              "    <tr>\n",
              "      <th>4</th>\n",
              "      <td>1665</td>\n",
              "      <td>Female</td>\n",
              "      <td>79.0</td>\n",
              "      <td>1</td>\n",
              "      <td>0</td>\n",
              "      <td>Yes</td>\n",
              "      <td>Self-employed</td>\n",
              "      <td>Rural</td>\n",
              "      <td>174.12</td>\n",
              "      <td>24.0</td>\n",
              "      <td>never smoked</td>\n",
              "      <td>1</td>\n",
              "    </tr>\n",
              "  </tbody>\n",
              "</table>\n",
              "</div>"
            ],
            "text/plain": [
              "      id  gender   age  ...   bmi   smoking_status stroke\n",
              "0   9046    Male  67.0  ...  36.6  formerly smoked      1\n",
              "1  51676  Female  61.0  ...   NaN     never smoked      1\n",
              "2  31112    Male  80.0  ...  32.5     never smoked      1\n",
              "3  60182  Female  49.0  ...  34.4           smokes      1\n",
              "4   1665  Female  79.0  ...  24.0     never smoked      1\n",
              "\n",
              "[5 rows x 12 columns]"
            ]
          },
          "metadata": {
            "tags": []
          },
          "execution_count": 3
        }
      ]
    },
    {
      "cell_type": "markdown",
      "metadata": {
        "id": "lIiW-dKyrexC"
      },
      "source": [
        "Очевидно, что id пациента никак не поможет предсказать случится ли у него инслуьт или нет"
      ]
    },
    {
      "cell_type": "code",
      "metadata": {
        "colab": {
          "base_uri": "https://localhost:8080/",
          "height": 202
        },
        "id": "1KPzvJuWrv-p",
        "outputId": "cc29553e-5edc-4014-f109-45a4d4e92396"
      },
      "source": [
        "data = data.drop(columns='id')\n",
        "data.head()"
      ],
      "execution_count": 4,
      "outputs": [
        {
          "output_type": "execute_result",
          "data": {
            "text/html": [
              "<div>\n",
              "<style scoped>\n",
              "    .dataframe tbody tr th:only-of-type {\n",
              "        vertical-align: middle;\n",
              "    }\n",
              "\n",
              "    .dataframe tbody tr th {\n",
              "        vertical-align: top;\n",
              "    }\n",
              "\n",
              "    .dataframe thead th {\n",
              "        text-align: right;\n",
              "    }\n",
              "</style>\n",
              "<table border=\"1\" class=\"dataframe\">\n",
              "  <thead>\n",
              "    <tr style=\"text-align: right;\">\n",
              "      <th></th>\n",
              "      <th>gender</th>\n",
              "      <th>age</th>\n",
              "      <th>hypertension</th>\n",
              "      <th>heart_disease</th>\n",
              "      <th>ever_married</th>\n",
              "      <th>work_type</th>\n",
              "      <th>Residence_type</th>\n",
              "      <th>avg_glucose_level</th>\n",
              "      <th>bmi</th>\n",
              "      <th>smoking_status</th>\n",
              "      <th>stroke</th>\n",
              "    </tr>\n",
              "  </thead>\n",
              "  <tbody>\n",
              "    <tr>\n",
              "      <th>0</th>\n",
              "      <td>Male</td>\n",
              "      <td>67.0</td>\n",
              "      <td>0</td>\n",
              "      <td>1</td>\n",
              "      <td>Yes</td>\n",
              "      <td>Private</td>\n",
              "      <td>Urban</td>\n",
              "      <td>228.69</td>\n",
              "      <td>36.6</td>\n",
              "      <td>formerly smoked</td>\n",
              "      <td>1</td>\n",
              "    </tr>\n",
              "    <tr>\n",
              "      <th>1</th>\n",
              "      <td>Female</td>\n",
              "      <td>61.0</td>\n",
              "      <td>0</td>\n",
              "      <td>0</td>\n",
              "      <td>Yes</td>\n",
              "      <td>Self-employed</td>\n",
              "      <td>Rural</td>\n",
              "      <td>202.21</td>\n",
              "      <td>NaN</td>\n",
              "      <td>never smoked</td>\n",
              "      <td>1</td>\n",
              "    </tr>\n",
              "    <tr>\n",
              "      <th>2</th>\n",
              "      <td>Male</td>\n",
              "      <td>80.0</td>\n",
              "      <td>0</td>\n",
              "      <td>1</td>\n",
              "      <td>Yes</td>\n",
              "      <td>Private</td>\n",
              "      <td>Rural</td>\n",
              "      <td>105.92</td>\n",
              "      <td>32.5</td>\n",
              "      <td>never smoked</td>\n",
              "      <td>1</td>\n",
              "    </tr>\n",
              "    <tr>\n",
              "      <th>3</th>\n",
              "      <td>Female</td>\n",
              "      <td>49.0</td>\n",
              "      <td>0</td>\n",
              "      <td>0</td>\n",
              "      <td>Yes</td>\n",
              "      <td>Private</td>\n",
              "      <td>Urban</td>\n",
              "      <td>171.23</td>\n",
              "      <td>34.4</td>\n",
              "      <td>smokes</td>\n",
              "      <td>1</td>\n",
              "    </tr>\n",
              "    <tr>\n",
              "      <th>4</th>\n",
              "      <td>Female</td>\n",
              "      <td>79.0</td>\n",
              "      <td>1</td>\n",
              "      <td>0</td>\n",
              "      <td>Yes</td>\n",
              "      <td>Self-employed</td>\n",
              "      <td>Rural</td>\n",
              "      <td>174.12</td>\n",
              "      <td>24.0</td>\n",
              "      <td>never smoked</td>\n",
              "      <td>1</td>\n",
              "    </tr>\n",
              "  </tbody>\n",
              "</table>\n",
              "</div>"
            ],
            "text/plain": [
              "   gender   age  hypertension  ...   bmi   smoking_status stroke\n",
              "0    Male  67.0             0  ...  36.6  formerly smoked      1\n",
              "1  Female  61.0             0  ...   NaN     never smoked      1\n",
              "2    Male  80.0             0  ...  32.5     never smoked      1\n",
              "3  Female  49.0             0  ...  34.4           smokes      1\n",
              "4  Female  79.0             1  ...  24.0     never smoked      1\n",
              "\n",
              "[5 rows x 11 columns]"
            ]
          },
          "metadata": {
            "tags": []
          },
          "execution_count": 4
        }
      ]
    },
    {
      "cell_type": "code",
      "metadata": {
        "id": "KdxZXeLi1OLl"
      },
      "source": [
        "to_delete = data[data['gender'] == 'Other'].index\n",
        "data = data.drop(to_delete)"
      ],
      "execution_count": 5,
      "outputs": []
    },
    {
      "cell_type": "code",
      "metadata": {
        "colab": {
          "base_uri": "https://localhost:8080/"
        },
        "id": "OoofMSVjvGia",
        "outputId": "00faf220-14b7-49db-9942-03519b085aab"
      },
      "source": [
        "data.dtypes"
      ],
      "execution_count": 6,
      "outputs": [
        {
          "output_type": "execute_result",
          "data": {
            "text/plain": [
              "gender                object\n",
              "age                  float64\n",
              "hypertension           int64\n",
              "heart_disease          int64\n",
              "ever_married          object\n",
              "work_type             object\n",
              "Residence_type        object\n",
              "avg_glucose_level    float64\n",
              "bmi                  float64\n",
              "smoking_status        object\n",
              "stroke                 int64\n",
              "dtype: object"
            ]
          },
          "metadata": {
            "tags": []
          },
          "execution_count": 6
        }
      ]
    },
    {
      "cell_type": "markdown",
      "metadata": {
        "id": "K4PveOVrsNzZ"
      },
      "source": [
        "Посмотрим на пропущенные данные"
      ]
    },
    {
      "cell_type": "code",
      "metadata": {
        "colab": {
          "base_uri": "https://localhost:8080/"
        },
        "id": "IKXB71gUsGrf",
        "outputId": "1fb153ac-10af-41b9-e783-f98325dd7c15"
      },
      "source": [
        "data.isnull().sum()"
      ],
      "execution_count": 7,
      "outputs": [
        {
          "output_type": "execute_result",
          "data": {
            "text/plain": [
              "gender                 0\n",
              "age                    0\n",
              "hypertension           0\n",
              "heart_disease          0\n",
              "ever_married           0\n",
              "work_type              0\n",
              "Residence_type         0\n",
              "avg_glucose_level      0\n",
              "bmi                  201\n",
              "smoking_status         0\n",
              "stroke                 0\n",
              "dtype: int64"
            ]
          },
          "metadata": {
            "tags": []
          },
          "execution_count": 7
        }
      ]
    },
    {
      "cell_type": "code",
      "metadata": {
        "colab": {
          "base_uri": "https://localhost:8080/"
        },
        "id": "u2OAB1gz19Qi",
        "outputId": "8383df06-6428-4cdb-9372-6831c53fed5c"
      },
      "source": [
        "data.groupby('gender')['bmi'].mean()"
      ],
      "execution_count": 8,
      "outputs": [
        {
          "output_type": "execute_result",
          "data": {
            "text/plain": [
              "gender\n",
              "Female    29.065758\n",
              "Male      28.647936\n",
              "Name: bmi, dtype: float64"
            ]
          },
          "metadata": {
            "tags": []
          },
          "execution_count": 8
        }
      ]
    },
    {
      "cell_type": "code",
      "metadata": {
        "colab": {
          "base_uri": "https://localhost:8080/"
        },
        "id": "mOv2PYR6spsj",
        "outputId": "b0999e5f-fbb4-4902-b056-f91410da79a8"
      },
      "source": [
        "data = data.fillna(data.mean())\n",
        "data.isnull().sum()"
      ],
      "execution_count": 9,
      "outputs": [
        {
          "output_type": "execute_result",
          "data": {
            "text/plain": [
              "gender               0\n",
              "age                  0\n",
              "hypertension         0\n",
              "heart_disease        0\n",
              "ever_married         0\n",
              "work_type            0\n",
              "Residence_type       0\n",
              "avg_glucose_level    0\n",
              "bmi                  0\n",
              "smoking_status       0\n",
              "stroke               0\n",
              "dtype: int64"
            ]
          },
          "metadata": {
            "tags": []
          },
          "execution_count": 9
        }
      ]
    },
    {
      "cell_type": "code",
      "metadata": {
        "colab": {
          "base_uri": "https://localhost:8080/"
        },
        "id": "TEcfqNhXvcWa",
        "outputId": "2a3d8c6c-d1a1-4360-a51a-e1026b5734ac"
      },
      "source": [
        "data.ever_married.unique()"
      ],
      "execution_count": 10,
      "outputs": [
        {
          "output_type": "execute_result",
          "data": {
            "text/plain": [
              "array(['Yes', 'No'], dtype=object)"
            ]
          },
          "metadata": {
            "tags": []
          },
          "execution_count": 10
        }
      ]
    },
    {
      "cell_type": "code",
      "metadata": {
        "colab": {
          "base_uri": "https://localhost:8080/"
        },
        "id": "A4SC-F0dvhdX",
        "outputId": "0ad89265-eb08-4357-fdce-a6bf38c91e10"
      },
      "source": [
        "data.work_type.unique()"
      ],
      "execution_count": 11,
      "outputs": [
        {
          "output_type": "execute_result",
          "data": {
            "text/plain": [
              "array(['Private', 'Self-employed', 'Govt_job', 'children', 'Never_worked'],\n",
              "      dtype=object)"
            ]
          },
          "metadata": {
            "tags": []
          },
          "execution_count": 11
        }
      ]
    },
    {
      "cell_type": "code",
      "metadata": {
        "colab": {
          "base_uri": "https://localhost:8080/"
        },
        "id": "i5eu4kL_vm0C",
        "outputId": "6c65e841-49cf-46bb-f44b-99630d1a0da7"
      },
      "source": [
        "data.Residence_type.unique()"
      ],
      "execution_count": 12,
      "outputs": [
        {
          "output_type": "execute_result",
          "data": {
            "text/plain": [
              "array(['Urban', 'Rural'], dtype=object)"
            ]
          },
          "metadata": {
            "tags": []
          },
          "execution_count": 12
        }
      ]
    },
    {
      "cell_type": "code",
      "metadata": {
        "colab": {
          "base_uri": "https://localhost:8080/"
        },
        "id": "vt_WcLrZvXJk",
        "outputId": "73d7fa8b-4a0c-4b5c-fe75-e980ffc97fbc"
      },
      "source": [
        "data.smoking_status.unique()"
      ],
      "execution_count": 13,
      "outputs": [
        {
          "output_type": "execute_result",
          "data": {
            "text/plain": [
              "array(['formerly smoked', 'never smoked', 'smokes', 'Unknown'],\n",
              "      dtype=object)"
            ]
          },
          "metadata": {
            "tags": []
          },
          "execution_count": 13
        }
      ]
    },
    {
      "cell_type": "markdown",
      "metadata": {
        "id": "a1xG8AJGvxWI"
      },
      "source": [
        "Заменим значения категориальных признаков численными"
      ]
    },
    {
      "cell_type": "code",
      "metadata": {
        "id": "Wl9ijOxcxZlA"
      },
      "source": [
        "from sklearn.preprocessing import LabelEncoder\n",
        "categorial_cols = data.columns[data.dtypes=='object'].to_list()\n",
        "l = LabelEncoder()\n",
        "data[categorial_cols] = data[categorial_cols].apply(lambda col : l.fit_transform(col))"
      ],
      "execution_count": 14,
      "outputs": []
    },
    {
      "cell_type": "code",
      "metadata": {
        "colab": {
          "base_uri": "https://localhost:8080/",
          "height": 202
        },
        "id": "5N8YMQeVwfJw",
        "outputId": "0a0500a7-a10b-4107-dfac-b9004962b631"
      },
      "source": [
        "data.head()"
      ],
      "execution_count": 15,
      "outputs": [
        {
          "output_type": "execute_result",
          "data": {
            "text/html": [
              "<div>\n",
              "<style scoped>\n",
              "    .dataframe tbody tr th:only-of-type {\n",
              "        vertical-align: middle;\n",
              "    }\n",
              "\n",
              "    .dataframe tbody tr th {\n",
              "        vertical-align: top;\n",
              "    }\n",
              "\n",
              "    .dataframe thead th {\n",
              "        text-align: right;\n",
              "    }\n",
              "</style>\n",
              "<table border=\"1\" class=\"dataframe\">\n",
              "  <thead>\n",
              "    <tr style=\"text-align: right;\">\n",
              "      <th></th>\n",
              "      <th>gender</th>\n",
              "      <th>age</th>\n",
              "      <th>hypertension</th>\n",
              "      <th>heart_disease</th>\n",
              "      <th>ever_married</th>\n",
              "      <th>work_type</th>\n",
              "      <th>Residence_type</th>\n",
              "      <th>avg_glucose_level</th>\n",
              "      <th>bmi</th>\n",
              "      <th>smoking_status</th>\n",
              "      <th>stroke</th>\n",
              "    </tr>\n",
              "  </thead>\n",
              "  <tbody>\n",
              "    <tr>\n",
              "      <th>0</th>\n",
              "      <td>1</td>\n",
              "      <td>67.0</td>\n",
              "      <td>0</td>\n",
              "      <td>1</td>\n",
              "      <td>1</td>\n",
              "      <td>2</td>\n",
              "      <td>1</td>\n",
              "      <td>228.69</td>\n",
              "      <td>36.60000</td>\n",
              "      <td>1</td>\n",
              "      <td>1</td>\n",
              "    </tr>\n",
              "    <tr>\n",
              "      <th>1</th>\n",
              "      <td>0</td>\n",
              "      <td>61.0</td>\n",
              "      <td>0</td>\n",
              "      <td>0</td>\n",
              "      <td>1</td>\n",
              "      <td>3</td>\n",
              "      <td>0</td>\n",
              "      <td>202.21</td>\n",
              "      <td>28.89456</td>\n",
              "      <td>2</td>\n",
              "      <td>1</td>\n",
              "    </tr>\n",
              "    <tr>\n",
              "      <th>2</th>\n",
              "      <td>1</td>\n",
              "      <td>80.0</td>\n",
              "      <td>0</td>\n",
              "      <td>1</td>\n",
              "      <td>1</td>\n",
              "      <td>2</td>\n",
              "      <td>0</td>\n",
              "      <td>105.92</td>\n",
              "      <td>32.50000</td>\n",
              "      <td>2</td>\n",
              "      <td>1</td>\n",
              "    </tr>\n",
              "    <tr>\n",
              "      <th>3</th>\n",
              "      <td>0</td>\n",
              "      <td>49.0</td>\n",
              "      <td>0</td>\n",
              "      <td>0</td>\n",
              "      <td>1</td>\n",
              "      <td>2</td>\n",
              "      <td>1</td>\n",
              "      <td>171.23</td>\n",
              "      <td>34.40000</td>\n",
              "      <td>3</td>\n",
              "      <td>1</td>\n",
              "    </tr>\n",
              "    <tr>\n",
              "      <th>4</th>\n",
              "      <td>0</td>\n",
              "      <td>79.0</td>\n",
              "      <td>1</td>\n",
              "      <td>0</td>\n",
              "      <td>1</td>\n",
              "      <td>3</td>\n",
              "      <td>0</td>\n",
              "      <td>174.12</td>\n",
              "      <td>24.00000</td>\n",
              "      <td>2</td>\n",
              "      <td>1</td>\n",
              "    </tr>\n",
              "  </tbody>\n",
              "</table>\n",
              "</div>"
            ],
            "text/plain": [
              "   gender   age  hypertension  ...       bmi  smoking_status  stroke\n",
              "0       1  67.0             0  ...  36.60000               1       1\n",
              "1       0  61.0             0  ...  28.89456               2       1\n",
              "2       1  80.0             0  ...  32.50000               2       1\n",
              "3       0  49.0             0  ...  34.40000               3       1\n",
              "4       0  79.0             1  ...  24.00000               2       1\n",
              "\n",
              "[5 rows x 11 columns]"
            ]
          },
          "metadata": {
            "tags": []
          },
          "execution_count": 15
        }
      ]
    },
    {
      "cell_type": "code",
      "metadata": {
        "colab": {
          "base_uri": "https://localhost:8080/"
        },
        "id": "Ot-KvYsIzid1",
        "outputId": "0573e2a2-e650-442d-c11c-6c8a4d41da25"
      },
      "source": [
        "data.dtypes"
      ],
      "execution_count": 16,
      "outputs": [
        {
          "output_type": "execute_result",
          "data": {
            "text/plain": [
              "gender                 int64\n",
              "age                  float64\n",
              "hypertension           int64\n",
              "heart_disease          int64\n",
              "ever_married           int64\n",
              "work_type              int64\n",
              "Residence_type         int64\n",
              "avg_glucose_level    float64\n",
              "bmi                  float64\n",
              "smoking_status         int64\n",
              "stroke                 int64\n",
              "dtype: object"
            ]
          },
          "metadata": {
            "tags": []
          },
          "execution_count": 16
        }
      ]
    },
    {
      "cell_type": "code",
      "metadata": {
        "colab": {
          "base_uri": "https://localhost:8080/",
          "height": 415
        },
        "id": "Lxq1TnyxyLq_",
        "outputId": "89a53fd0-4ab6-4fb2-8c1a-940074e3eade"
      },
      "source": [
        "from sklearn.preprocessing import StandardScaler\n",
        "\n",
        "numerical_cols = data.columns[data.dtypes=='float64']\n",
        "\n",
        "scaler = StandardScaler()\n",
        "data[numerical_cols] = scaler.fit_transform(data[numerical_cols])\n",
        "\n",
        "data[numerical_cols]"
      ],
      "execution_count": 17,
      "outputs": [
        {
          "output_type": "execute_result",
          "data": {
            "text/html": [
              "<div>\n",
              "<style scoped>\n",
              "    .dataframe tbody tr th:only-of-type {\n",
              "        vertical-align: middle;\n",
              "    }\n",
              "\n",
              "    .dataframe tbody tr th {\n",
              "        vertical-align: top;\n",
              "    }\n",
              "\n",
              "    .dataframe thead th {\n",
              "        text-align: right;\n",
              "    }\n",
              "</style>\n",
              "<table border=\"1\" class=\"dataframe\">\n",
              "  <thead>\n",
              "    <tr style=\"text-align: right;\">\n",
              "      <th></th>\n",
              "      <th>age</th>\n",
              "      <th>avg_glucose_level</th>\n",
              "      <th>bmi</th>\n",
              "    </tr>\n",
              "  </thead>\n",
              "  <tbody>\n",
              "    <tr>\n",
              "      <th>0</th>\n",
              "      <td>1.051242</td>\n",
              "      <td>2.706450</td>\n",
              "      <td>1.001034e+00</td>\n",
              "    </tr>\n",
              "    <tr>\n",
              "      <th>1</th>\n",
              "      <td>0.785889</td>\n",
              "      <td>2.121652</td>\n",
              "      <td>1.384627e-15</td>\n",
              "    </tr>\n",
              "    <tr>\n",
              "      <th>2</th>\n",
              "      <td>1.626174</td>\n",
              "      <td>-0.004867</td>\n",
              "      <td>4.683922e-01</td>\n",
              "    </tr>\n",
              "    <tr>\n",
              "      <th>3</th>\n",
              "      <td>0.255182</td>\n",
              "      <td>1.437473</td>\n",
              "      <td>7.152261e-01</td>\n",
              "    </tr>\n",
              "    <tr>\n",
              "      <th>4</th>\n",
              "      <td>1.581949</td>\n",
              "      <td>1.501297</td>\n",
              "      <td>-6.358651e-01</td>\n",
              "    </tr>\n",
              "    <tr>\n",
              "      <th>...</th>\n",
              "      <td>...</td>\n",
              "      <td>...</td>\n",
              "      <td>...</td>\n",
              "    </tr>\n",
              "    <tr>\n",
              "      <th>5105</th>\n",
              "      <td>1.626174</td>\n",
              "      <td>-0.494481</td>\n",
              "      <td>1.384627e-15</td>\n",
              "    </tr>\n",
              "    <tr>\n",
              "      <th>5106</th>\n",
              "      <td>1.670400</td>\n",
              "      <td>0.420922</td>\n",
              "      <td>1.442737e+00</td>\n",
              "    </tr>\n",
              "    <tr>\n",
              "      <th>5107</th>\n",
              "      <td>-0.363976</td>\n",
              "      <td>-0.511266</td>\n",
              "      <td>2.215582e-01</td>\n",
              "    </tr>\n",
              "    <tr>\n",
              "      <th>5108</th>\n",
              "      <td>0.343633</td>\n",
              "      <td>1.328375</td>\n",
              "      <td>-4.280049e-01</td>\n",
              "    </tr>\n",
              "    <tr>\n",
              "      <th>5109</th>\n",
              "      <td>0.034054</td>\n",
              "      <td>-0.460692</td>\n",
              "      <td>-3.500573e-01</td>\n",
              "    </tr>\n",
              "  </tbody>\n",
              "</table>\n",
              "<p>5109 rows × 3 columns</p>\n",
              "</div>"
            ],
            "text/plain": [
              "           age  avg_glucose_level           bmi\n",
              "0     1.051242           2.706450  1.001034e+00\n",
              "1     0.785889           2.121652  1.384627e-15\n",
              "2     1.626174          -0.004867  4.683922e-01\n",
              "3     0.255182           1.437473  7.152261e-01\n",
              "4     1.581949           1.501297 -6.358651e-01\n",
              "...        ...                ...           ...\n",
              "5105  1.626174          -0.494481  1.384627e-15\n",
              "5106  1.670400           0.420922  1.442737e+00\n",
              "5107 -0.363976          -0.511266  2.215582e-01\n",
              "5108  0.343633           1.328375 -4.280049e-01\n",
              "5109  0.034054          -0.460692 -3.500573e-01\n",
              "\n",
              "[5109 rows x 3 columns]"
            ]
          },
          "metadata": {
            "tags": []
          },
          "execution_count": 17
        }
      ]
    },
    {
      "cell_type": "markdown",
      "metadata": {
        "id": "E0cSKEn2QeLR"
      },
      "source": [
        "Разобьем датасет на обучающую и тестовую части"
      ]
    },
    {
      "cell_type": "code",
      "metadata": {
        "id": "FKpjwW8U6s4o"
      },
      "source": [
        "from sklearn.model_selection import train_test_split\n",
        "x = data.drop('stroke', axis=1).values\n",
        "y = data['stroke'].values\n",
        "x_train, x_test, y_train, y_test = train_test_split(x, y, test_size=0.10)"
      ],
      "execution_count": 29,
      "outputs": []
    },
    {
      "cell_type": "markdown",
      "metadata": {
        "id": "Qdtucs1cQmec"
      },
      "source": [
        "#Логистическая регрессия\n"
      ]
    },
    {
      "cell_type": "code",
      "metadata": {
        "id": "Ee8Hk9xgQ5ET"
      },
      "source": [
        "def sigmoid(z):\n",
        "  return 1 / (1 + np.exp(-z))\n",
        "\n",
        "class LogisticRegressor:\n",
        "  def __init__(self):\n",
        "    self.loss = []\n",
        "\n",
        "  def count_loss(self, x, y):\n",
        "    z = np.dot(x, self.weights)\n",
        "    predicted_true = y * np.log(sigmoid(z))\n",
        "    predicted_false = (1 - y) * np.log(1 - sigmoid(z))\n",
        "    return -np.sum(predicted_true + predicted_false) / x.shape[0]\n",
        "\n",
        "  def fit(self, x, y, nepoch=1000, lr=0.01, log_loss=False):\n",
        "    self.weights = np.random.rand(x.shape[1])\n",
        "    for _ in range(nepoch):\n",
        "      predicted = sigmoid(np.dot(x, self.weights))\n",
        "      self.weights -= lr * np.dot(x.T, predicted - y) / x.shape[0]\n",
        "      if log_loss:\n",
        "        self.loss.append(self.count_loss(x, y))\n",
        "\n",
        "  def predict(self, x):\n",
        "    prediction = np.dot(x, self.weights)\n",
        "    return [1 if predict > 0.5 else 0 for predict in sigmoid(prediction)]\n",
        "\n"
      ],
      "execution_count": 19,
      "outputs": []
    },
    {
      "cell_type": "code",
      "metadata": {
        "colab": {
          "base_uri": "https://localhost:8080/"
        },
        "id": "2Fk9BtZa8qq8",
        "outputId": "cab343c0-82cf-4d5e-8c29-a09956ee9250"
      },
      "source": [
        "from sklearn.metrics import accuracy_score, confusion_matrix\n",
        "lgr = LogisticRegressor()\n",
        "lgr.fit(x_train, y_train)\n",
        "predicted = lgr.predict(x_test)\n",
        "accuracy_score(predicted, y_test)"
      ],
      "execution_count": 30,
      "outputs": [
        {
          "output_type": "execute_result",
          "data": {
            "text/plain": [
              "0.9471624266144814"
            ]
          },
          "metadata": {
            "tags": []
          },
          "execution_count": 30
        }
      ]
    },
    {
      "cell_type": "code",
      "metadata": {
        "colab": {
          "base_uri": "https://localhost:8080/"
        },
        "id": "jQ_jIKoH0ALr",
        "outputId": "2febd118-06a5-4301-ae4d-6bc5aac8f9fe"
      },
      "source": [
        "from sklearn.linear_model import LogisticRegressionCV\n",
        "lr = LogisticRegressionCV()\n",
        "lr.fit(x_train, y_train)\n",
        "predicted = lr.predict(x_test)\n",
        "accuracy_score(predicted, y_test)"
      ],
      "execution_count": 31,
      "outputs": [
        {
          "output_type": "execute_result",
          "data": {
            "text/plain": [
              "0.9530332681017613"
            ]
          },
          "metadata": {
            "tags": []
          },
          "execution_count": 31
        }
      ]
    },
    {
      "cell_type": "code",
      "metadata": {
        "colab": {
          "base_uri": "https://localhost:8080/"
        },
        "id": "ZayOYDM8By-9",
        "outputId": "3f3c8dbe-142f-44dd-aaf5-db20955e71cb"
      },
      "source": [
        "hyperparameters = [\n",
        "(0.1, 500), \n",
        "(0.1, 1000), \n",
        "(0.1, 1500),\n",
        "(0.01, 1000),\n",
        "(0.01, 2000),\n",
        "(0.01, 5000),\n",
        "(0.01, 10000),\n",
        "(0.001, 1000),\n",
        "(0.001, 3000),\n",
        "(0.001, 5000),\n",
        "(0.001, 10000),\n",
        "(0.001, 15000),\n",
        "(0.0001, 2000),\n",
        "(0.0001, 5000),\n",
        "(0.0001, 10000),\n",
        "(0.0001, 15000),\n",
        "(0.0001, 20000),\n",
        "(0.0001, 50000)\n",
        "]\n",
        "\n",
        "for pair in hyperparameters:\n",
        "    lr, nepoch = pair\n",
        "    lgr = LogisticRegressor()\n",
        "    lgr.fit(x_train, y_train, nepoch=nepoch, lr=lr)\n",
        "    predicted_test = lgr.predict(x_test)\n",
        "    predicted_train = lgr.predict(x_train)\n",
        "    print(f'Learning rate = {lr}, nepoch = {nepoch}, train accuracy = {accuracy_score(y_train, predicted_train)}, test accuracy = {accuracy_score(y_test, predicted_test)}')"
      ],
      "execution_count": 32,
      "outputs": [
        {
          "output_type": "stream",
          "text": [
            "Learning rate = 0.1, nepoch = 500, train accuracy = 0.9441061331013484, test accuracy = 0.949119373776908\n",
            "Learning rate = 0.1, nepoch = 1000, train accuracy = 0.9454110482818617, test accuracy = 0.949119373776908\n",
            "Learning rate = 0.1, nepoch = 1500, train accuracy = 0.9451935624184428, test accuracy = 0.949119373776908\n",
            "Learning rate = 0.01, nepoch = 1000, train accuracy = 0.9371465854719443, test accuracy = 0.9432485322896281\n",
            "Learning rate = 0.01, nepoch = 2000, train accuracy = 0.9436711613745107, test accuracy = 0.949119373776908\n",
            "Learning rate = 0.01, nepoch = 5000, train accuracy = 0.9454110482818617, test accuracy = 0.9510763209393346\n",
            "Learning rate = 0.01, nepoch = 10000, train accuracy = 0.9464984775989561, test accuracy = 0.949119373776908\n",
            "Learning rate = 0.001, nepoch = 1000, train accuracy = 0.8405828621139626, test accuracy = 0.8160469667318982\n",
            "Learning rate = 0.001, nepoch = 3000, train accuracy = 0.9197477163984341, test accuracy = 0.9217221135029354\n",
            "Learning rate = 0.001, nepoch = 5000, train accuracy = 0.9308394954327969, test accuracy = 0.9275929549902152\n",
            "Learning rate = 0.001, nepoch = 10000, train accuracy = 0.943018703784254, test accuracy = 0.9412915851272016\n",
            "Learning rate = 0.001, nepoch = 15000, train accuracy = 0.937799043062201, test accuracy = 0.9373776908023483\n",
            "Learning rate = 0.0001, nepoch = 2000, train accuracy = 0.10243584167029143, test accuracy = 0.0958904109589041\n",
            "Learning rate = 0.0001, nepoch = 5000, train accuracy = 0.6861678990865594, test accuracy = 0.700587084148728\n",
            "Learning rate = 0.0001, nepoch = 10000, train accuracy = 0.6659417137886038, test accuracy = 0.6731898238747553\n",
            "Learning rate = 0.0001, nepoch = 15000, train accuracy = 0.8101348412353198, test accuracy = 0.7964774951076321\n",
            "Learning rate = 0.0001, nepoch = 20000, train accuracy = 0.9349717268377555, test accuracy = 0.9354207436399217\n",
            "Learning rate = 0.0001, nepoch = 50000, train accuracy = 0.9421487603305785, test accuracy = 0.949119373776908\n"
          ],
          "name": "stdout"
        }
      ]
    },
    {
      "cell_type": "markdown",
      "metadata": {
        "id": "ol7XA7hW9Zs2"
      },
      "source": [
        "Наилучшая точность была достигнута с lr = 0.01 и количеством эпох равным 5000. Посмотрим на loss для этих параметров"
      ]
    },
    {
      "cell_type": "code",
      "metadata": {
        "colab": {
          "base_uri": "https://localhost:8080/",
          "height": 283
        },
        "id": "FVp0BE1l9ZGE",
        "outputId": "f7cd316d-5924-4ae6-c0f4-69c4e446e3bd"
      },
      "source": [
        "lgr = LogisticRegressor()\n",
        "lgr.fit(x_train, y_train, nepoch=5000, lr=0.01, log_loss=True)\n",
        "predicted = lgr.predict(x_test)\n",
        "accuracy_score(predicted, y_test)\n",
        "plt.plot([i + 1 for i in range(len(lgr.loss))], lgr.loss)\n",
        "print(lgr.loss[-1])"
      ],
      "execution_count": 33,
      "outputs": [
        {
          "output_type": "stream",
          "text": [
            "0.18832845796309783\n"
          ],
          "name": "stdout"
        },
        {
          "output_type": "display_data",
          "data": {
            "image/png": "[encoded data removed]",
            "text/plain": [
              "<Figure size 432x288 with 1 Axes>"
            ]
          },
          "metadata": {
            "tags": [],
            "needs_background": "light"
          }
        }
      ]
    },
    {
      "cell_type": "code",
      "metadata": {
        "colab": {
          "base_uri": "https://localhost:8080/"
        },
        "id": "zV-Biba4_4Iv",
        "outputId": "38a2565a-68e5-4a18-f91b-41330f35935c"
      },
      "source": [
        "confusion_matrix(predicted, y_test)"
      ],
      "execution_count": 34,
      "outputs": [
        {
          "output_type": "execute_result",
          "data": {
            "text/plain": [
              "array([[481,  22],\n",
              "       [  6,   2]])"
            ]
          },
          "metadata": {
            "tags": []
          },
          "execution_count": 34
        }
      ]
    },
    {
      "cell_type": "markdown",
      "metadata": {
        "id": "TE5yrHL1Bv54"
      },
      "source": [
        "Видно, что модель почти для всех наблюдений предсказывает true"
      ]
    },
    {
      "cell_type": "markdown",
      "metadata": {
        "id": "l2r2NnFMPzzZ"
      },
      "source": [
        "#Дерево решений"
      ]
    },
    {
      "cell_type": "code",
      "metadata": {
        "id": "uTNM_Q5iP6bw"
      },
      "source": [
        "class Node:\n",
        "  def __init__(self, feature_index=None, feature_value=None, left=None, \n",
        "               right=None, info_gain=0, predicted_value=None):\n",
        "    self.feature_index = feature_index\n",
        "    self.feature_value = feature_value\n",
        "    self.left = left\n",
        "    self.right = right\n",
        "    self.info_gain = info_gain\n",
        "    self.predicted_value = predicted_value\n",
        "\n",
        "\n",
        "class ClassifyingDecisionTree:\n",
        "  def __init__(self, max_depth=2, min_samples_split=2):\n",
        "    self.max_depth = max_depth\n",
        "    self.min_samples_split = min_samples_split\n",
        "\n",
        "  def fit(self, x, y):\n",
        "    data = np.concatenate((x, y[:, np.newaxis]), axis=1)\n",
        "    self.root = self.build_tree(data)\n",
        "\n",
        "  def predict(self, x):\n",
        "    predicted = [self.single_prediction(obs, self.root) for obs in x]\n",
        "    return predicted\n",
        "\n",
        "  def single_prediction(self, x, node):\n",
        "    if node.predicted_value != None:\n",
        "      return node.predicted_value\n",
        "\n",
        "    if x[node.feature_index] <= node.feature_value:\n",
        "      return self.single_prediction(x, node.left)\n",
        "    else:\n",
        "      return self.single_prediction(x, node.right)\n",
        "\n",
        "  def gini(self, rows):\n",
        "    unique = np.unique(rows)\n",
        "    impurity = 1\n",
        "    for cls in unique:\n",
        "      prob = len(rows[rows == cls]) / float(len(rows))\n",
        "      impurity -= prob ** 2\n",
        "    return impurity\n",
        "\n",
        "  def info_gain(self, current_uncertainty, left, right):\n",
        "    p = float(len(left)) / (len(left) + len(right))\n",
        "    return current_uncertainty - p * self.gini(left) - (1 - p) * self.gini(right)\n",
        "\n",
        "  def split(self, data, feature_index, feature_value):\n",
        "    left = np.array([item for item in data if item[feature_index] <= feature_value])\n",
        "    right = np.array([item for item in data if item[feature_index] > feature_value])\n",
        "    return left, right\n",
        "\n",
        "  def find_best_split(self, data, num_features):\n",
        "    best_split = Node()\n",
        "    current_uncertainty = self.gini(data[:, -1])\n",
        "    for feature_index in range(num_features):\n",
        "      feature_values = data[:, feature_index]\n",
        "      for feature_value in np.unique(feature_values):\n",
        "        left, right = self.split(data, feature_index, feature_value)\n",
        "        if len(left) == 0 or len(right) == 0:\n",
        "          continue\n",
        "        gain = self.info_gain(current_uncertainty, left[:, -1], right[:, -1])\n",
        "        if gain > best_split.info_gain:\n",
        "          best_split.feature_index = feature_index\n",
        "          best_split.feature_value = feature_value\n",
        "          best_split.left = left\n",
        "          best_split.right = right\n",
        "          best_split.info_gain = gain\n",
        "    return best_split\n",
        "\n",
        "  def build_tree(self, data, current_depth=0):\n",
        "    X, Y = data[:, :-1], data[:, -1]\n",
        "    num_samples, num_features = np.shape(X)\n",
        "    if num_samples >= self.min_samples_split and current_depth <= self.max_depth:\n",
        "      best_split = self.find_best_split(data, num_features)\n",
        "      if best_split.info_gain > 0:\n",
        "        left = self.build_tree(best_split.left, current_depth + 1)\n",
        "        right = self.build_tree(best_split.right, current_depth + 1)\n",
        "        best_split.left = left\n",
        "        best_split.right = right\n",
        "        return best_split\n",
        "    value = max(list(Y), key=list(Y).count)\n",
        "    return Node(predicted_value=value)    \n",
        "\n"
      ],
      "execution_count": 158,
      "outputs": []
    },
    {
      "cell_type": "markdown",
      "metadata": {
        "id": "rlArniUtpq9w"
      },
      "source": [
        "Сравним результаты для деревьев с высотой 1, 2, 4"
      ]
    },
    {
      "cell_type": "code",
      "metadata": {
        "colab": {
          "base_uri": "https://localhost:8080/"
        },
        "id": "QXND5KRMcEsx",
        "outputId": "4221e1e6-56d5-4800-8102-0387eb402d96"
      },
      "source": [
        "depths = [1, 2, 4]\n",
        "for depth in depths:\n",
        "  crt = ClassifyingDecisionTree(max_depth=depth)\n",
        "  crt.fit(x_train, y_train)\n",
        "  predicted = crt.predict(x_test)\n",
        "  print(\"Depth = {}, accuracy = {}\".format(depth, accuracy_score(predicted, y_test)))"
      ],
      "execution_count": 159,
      "outputs": [
        {
          "output_type": "stream",
          "text": [
            "Depth = 1, accuracy = 0.9530332681017613\n",
            "Depth = 2, accuracy = 0.9510763209393346\n",
            "Depth = 4, accuracy = 0.9510763209393346\n"
          ],
          "name": "stdout"
        }
      ]
    },
    {
      "cell_type": "code",
      "metadata": {
        "colab": {
          "base_uri": "https://localhost:8080/"
        },
        "id": "RuhOO6qwgm1k",
        "outputId": "59b58f80-b65f-4404-e7f5-5a8e23d2c83f"
      },
      "source": [
        "from sklearn.tree import DecisionTreeClassifier\n",
        "for depth in depths:\n",
        "  sk_crt = DecisionTreeClassifier(max_depth=depth)\n",
        "  sk_crt.fit(x_train, y_train)\n",
        "  predicted = sk_crt.predict(x_test)\n",
        "  print(\"Depth = {}, accuracy = {}\".format(depth, accuracy_score(predicted, y_test)))"
      ],
      "execution_count": 160,
      "outputs": [
        {
          "output_type": "stream",
          "text": [
            "Depth = 1, accuracy = 0.9530332681017613\n",
            "Depth = 2, accuracy = 0.9530332681017613\n",
            "Depth = 4, accuracy = 0.9530332681017613\n"
          ],
          "name": "stdout"
        }
      ]
    },
    {
      "cell_type": "markdown",
      "metadata": {
        "id": "RtqdbuMmtdCu"
      },
      "source": [
        "#Random forest"
      ]
    },
    {
      "cell_type": "code",
      "metadata": {
        "id": "qGSKuOxDtssG"
      },
      "source": [
        "from collections import Counter\n",
        "\n",
        "class RandomForest:\n",
        "  def __init__(self, num_trees=10, max_depth=2, min_samples_split=2):\n",
        "    self.num_trees = num_trees\n",
        "    self.max_depth = max_depth\n",
        "    self.min_samples_split = min_samples_split\n",
        "    self.forest = []\n",
        "\n",
        "  def get_sample(self, x, y):\n",
        "    random_rows = np.random.choice(a=x.shape[0], size=x.shape[0])\n",
        "    return x[random_rows], y[random_rows]\n",
        "\n",
        "  def fit(self, x, y):\n",
        "    for _ in range(self.num_trees):\n",
        "      sample_x, sample_y = self.get_sample(x, y)\n",
        "      tree = ClassifyingDecisionTree(self.max_depth, self.min_samples_split)\n",
        "      tree.fit(sample_x, sample_y)\n",
        "      self.forest.append(tree)\n",
        "\n",
        "  def predict(self, x):\n",
        "    prediction = []\n",
        "    y = []\n",
        "    for tree in self.forest:\n",
        "      y.append(tree.predict(x))\n",
        "    y = np.swapaxes(a=y, axis1=0, axis2=1)  \n",
        "    for obs in y:\n",
        "      counter = Counter(obs)\n",
        "      prediction.append(counter.most_common(1)[0][0])\n",
        "    return prediction  \n",
        "\n"
      ],
      "execution_count": 172,
      "outputs": []
    },
    {
      "cell_type": "markdown",
      "metadata": {
        "id": "lXEilaIOAcvm"
      },
      "source": [
        "Посмотрим на результаты, когда лес состоит из 2, 5, 10, 20 деревьев"
      ]
    },
    {
      "cell_type": "code",
      "metadata": {
        "colab": {
          "base_uri": "https://localhost:8080/"
        },
        "id": "fS2pbfnP6J8D",
        "outputId": "0d49d76c-ff86-482d-a7c7-9f4c865af308"
      },
      "source": [
        "num_trees = [2, 5, 10, 20]\n",
        "for n in num_trees:\n",
        "  forest = RandomForest(num_trees=n)\n",
        "  forest.fit(x_train, y_train)\n",
        "  predicted = forest.predict(x_test)\n",
        "  print(\"Number of trees = {}, accuracy = {}\".format(n, accuracy_score(predicted, y_test)))"
      ],
      "execution_count": 186,
      "outputs": [
        {
          "output_type": "stream",
          "text": [
            "Number of trees = 2, accuracy = 0.9530332681017613\n",
            "Number of trees = 5, accuracy = 0.9530332681017613\n",
            "Number of trees = 10, accuracy = 0.9530332681017613\n",
            "Number of trees = 20, accuracy = 0.9530332681017613\n"
          ],
          "name": "stdout"
        }
      ]
    },
    {
      "cell_type": "code",
      "metadata": {
        "colab": {
          "base_uri": "https://localhost:8080/"
        },
        "id": "ZxlMBivbAe0T",
        "outputId": "323bd33f-e4ab-480a-dbb9-6199139faf11"
      },
      "source": [
        "from sklearn.ensemble import RandomForestClassifier\n",
        "\n",
        "for n in num_trees:\n",
        "  forest = RandomForestClassifier(n_estimators=n)\n",
        "  forest.fit(x_train, y_train)\n",
        "  predicted = forest.predict(x_test)\n",
        "  print(\"Number of trees = {}, accuracy = {}\".format(n, accuracy_score(predicted, y_test)))"
      ],
      "execution_count": 185,
      "outputs": [
        {
          "output_type": "stream",
          "text": [
            "Number of trees = 2, accuracy = 0.9412915851272016\n",
            "Number of trees = 5, accuracy = 0.9452054794520548\n",
            "Number of trees = 10, accuracy = 0.9569471624266145\n",
            "Number of trees = 20, accuracy = 0.9549902152641878\n"
          ],
          "name": "stdout"
        }
      ]
    }
  ]
}